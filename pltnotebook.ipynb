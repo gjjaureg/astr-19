{
 "cells": [
  {
   "cell_type": "code",
   "execution_count": 86,
   "id": "42c266aa-bc58-48f7-b6d2-f357b4a9ad59",
   "metadata": {},
   "outputs": [],
   "source": [
    "import numpy as np\n",
    "from tabulate import tabulate"
   ]
  },
  {
   "cell_type": "code",
   "execution_count": 87,
   "id": "08fafc1b-79e6-4a19-956c-35d04a717a3b",
   "metadata": {},
   "outputs": [],
   "source": [
    "def s(x):\n",
    "    return np.sin(x)"
   ]
  },
  {
   "cell_type": "markdown",
   "id": "5e0773a8-bc9f-4a9b-b556-1d01348a87a9",
   "metadata": {},
   "source": [
    "# This cell find the sin of X"
   ]
  },
  {
   "cell_type": "code",
   "execution_count": 88,
   "id": "bc5f40bb-a661-41e5-be00-c98f2c7ed020",
   "metadata": {},
   "outputs": [],
   "source": [
    "def c(x):\n",
    "    return np.cos(x)"
   ]
  },
  {
   "cell_type": "markdown",
   "id": "eb130c0c-b778-483a-866c-f1770b2bb927",
   "metadata": {},
   "source": [
    "# This cell find the cos of X"
   ]
  },
  {
   "cell_type": "code",
   "execution_count": 89,
   "id": "262b7601-da97-4477-b013-973b421a7888",
   "metadata": {},
   "outputs": [],
   "source": [
    "x = np.linspace(0, 2*np.pi, num=1000)\n",
    "tab = tabulate(np.stack((x,c(x),s(x)),axis=1))"
   ]
  },
  {
   "cell_type": "code",
   "execution_count": 90,
   "id": "cf485966-b0fb-4af5-9b5b-f35ad348c3ed",
   "metadata": {},
   "outputs": [
    {
     "name": "stdout",
     "output_type": "stream",
     "text": [
      "0.0 1.0 0.0\n",
      "0.006289474781961547 0.9999802213186832 0.006289433316067751\n",
      "0.012578949563923095 0.9999208860571255 0.012578617838741058\n",
      "0.018868424345884642 0.9998219965624732 0.01886730478446709\n",
      "0.02515789912784619 0.9996835567465339 0.025155245389375847\n",
      "0.03144737390980774 0.9995055720856215 0.0314421909191206\n",
      "0.037736848691769284 0.99928804962034 0.03772789267871718\n",
      "0.04402632347373083 0.9990309979553044 0.04401210202238166\n",
      "0.05031579825569238 0.9987344272588006 0.05029457036336618\n",
      "0.056605273037653926 0.9983983492623831 0.056575049183792345\n"
     ]
    }
   ],
   "source": [
    "for i in range(10):\n",
    "    print(x[i],c(x)[i],s(x)[i])"
   ]
  },
  {
   "cell_type": "code",
   "execution_count": null,
   "id": "09fa3607-806e-4614-b499-79e8534166b9",
   "metadata": {},
   "outputs": [],
   "source": []
  }
 ],
 "metadata": {
  "kernelspec": {
   "display_name": "Python 3 (ipykernel)",
   "language": "python",
   "name": "python3"
  },
  "language_info": {
   "codemirror_mode": {
    "name": "ipython",
    "version": 3
   },
   "file_extension": ".py",
   "mimetype": "text/x-python",
   "name": "python",
   "nbconvert_exporter": "python",
   "pygments_lexer": "ipython3",
   "version": "3.9.7"
  }
 },
 "nbformat": 4,
 "nbformat_minor": 5
}
